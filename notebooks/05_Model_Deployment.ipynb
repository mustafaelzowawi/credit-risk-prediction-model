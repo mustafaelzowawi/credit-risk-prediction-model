{
 "cells": [
  {
   "cell_type": "markdown",
   "metadata": {},
   "source": [
    "## Model Deployment\n",
    "**Objective:**  \n",
    "- Load the trained model and preprocessing objects.  \n",
    "- Define functions for preprocessing input data and making predictions.  \n",
    "- Map predicted default probabilities to credit scores.  \n",
    "- Test the model with sample input data.  "
   ]
  },
  {
   "cell_type": "markdown",
   "metadata": {},
   "source": [
    "### Import Libraries"
   ]
  },
  {
   "cell_type": "code",
   "execution_count": 175,
   "metadata": {},
   "outputs": [],
   "source": [
    "import joblib\n",
    "import pandas as pd\n",
    "import numpy as np"
   ]
  },
  {
   "cell_type": "markdown",
   "metadata": {},
   "source": [
    "### Load the Model and Preprocessing Objects"
   ]
  },
  {
   "cell_type": "code",
   "execution_count": 176,
   "metadata": {},
   "outputs": [],
   "source": [
    "\n",
    "model = joblib.load('../models/credit_model.pkl')\n",
    "scaler = joblib.load('../models/scaler.pkl')"
   ]
  },
  {
   "cell_type": "markdown",
   "metadata": {},
   "source": [
    "### Prepare Sample Input Data"
   ]
  },
  {
   "cell_type": "markdown",
   "metadata": {},
   "source": [
    "#### Define the Input Schema"
   ]
  },
  {
   "cell_type": "code",
   "execution_count": 177,
   "metadata": {},
   "outputs": [],
   "source": [
    "feature_names = [\n",
    "    'RevolvingUtilizationOfUnsecuredLines',\n",
    "    'age',\n",
    "    'DebtRatio',\n",
    "    'MonthlyIncome',\n",
    "    'NumberOfTime30-59DaysPastDueNotWorse',\n",
    "    'NumberOfOpenCreditLinesAndLoans',\n",
    "    'NumberOfTimes90DaysLate',\n",
    "    'NumberRealEstateLoansOrLines',\n",
    "    'NumberOfTime60-89DaysPastDueNotWorse',\n",
    "    'NumberOfDependents',\n",
    "    'TotalPastDue'\n",
    "]"
   ]
  },
  {
   "cell_type": "markdown",
   "metadata": {},
   "source": [
    "### Define Preprocessing and Prediction Functions"
   ]
  },
  {
   "cell_type": "markdown",
   "metadata": {},
   "source": [
    "#### Preprocessing Function"
   ]
  },
  {
   "cell_type": "code",
   "execution_count": 178,
   "metadata": {},
   "outputs": [],
   "source": [
    "def preprocess_input(input_data):\n",
    "    \"\"\"\n",
    "    Preprocess the input data for prediction.\n",
    "\n",
    "    Args:\n",
    "        input_data (dict): User input data as a dictionary.\n",
    "\n",
    "    Returns:\n",
    "        DataFrame: Preprocessed input data ready for prediction.\n",
    "    \"\"\"\n",
    "    # Convert the input dictionary to a DataFrame\n",
    "    input_df = pd.DataFrame([input_data], columns=feature_names)\n",
    "\n",
    "    # Feature Engineering\n",
    "    # Create 'TotalPastDue'\n",
    "    input_df['TotalPastDue'] = (\n",
    "        input_df['NumberOfTime30-59DaysPastDueNotWorse'] +\n",
    "        input_df['NumberOfTime60-89DaysPastDueNotWorse'] +\n",
    "        input_df['NumberOfTimes90DaysLate']\n",
    "    )\n",
    "\n",
    "    # Handle missing 'MonthlyIncome'\n",
    "    input_df['MonthlyIncomeMissing'] = input_df['MonthlyIncome'].isna().astype(int)\n",
    "\n",
    "    # Fill missing 'MonthlyIncome' with 0\n",
    "    input_df['MonthlyIncome'].fillna(0, inplace=True)  \n",
    "\n",
    "    # Binning 'age' into 'AgeGroup'\n",
    "    bins = [0, 30, 50, 100]\n",
    "    labels = ['Young', 'Adult', 'Senior']\n",
    "    input_df['AgeGroup'] = pd.cut(input_df['age'], bins=bins, labels=labels)\n",
    "\n",
    "    # One-Hot Encoding\n",
    "    input_df = pd.get_dummies(input_df, columns=['AgeGroup'], drop_first=True)\n",
    "\n",
    "    # Define final feature names after preprocessing\n",
    "    final_feature_names = [\n",
    "        'RevolvingUtilizationOfUnsecuredLines',\n",
    "        'age',\n",
    "        'NumberOfTime30-59DaysPastDueNotWorse',\n",
    "        'DebtRatio',\n",
    "        'MonthlyIncome',\n",
    "        'NumberOfOpenCreditLinesAndLoans',\n",
    "        'NumberOfTimes90DaysLate',\n",
    "        'NumberRealEstateLoansOrLines',\n",
    "        'NumberOfTime60-89DaysPastDueNotWorse',\n",
    "        'NumberOfDependents',\n",
    "        'MonthlyIncomeMissing',\n",
    "        'TotalPastDue',\n",
    "        'AgeGroup_Adult',\n",
    "        'AgeGroup_Senior',\n",
    "    ]\n",
    "\n",
    "    # Reorder columns to match training data\n",
    "    input_df = input_df.reindex(columns=final_feature_names, fill_value=0)\n",
    "\n",
    "    # Apply scaling to numerical features\n",
    "    numerical_features = [\n",
    "        'RevolvingUtilizationOfUnsecuredLines',\n",
    "        'age',\n",
    "        'DebtRatio',\n",
    "        'MonthlyIncome',\n",
    "        'NumberOfTime30-59DaysPastDueNotWorse',\n",
    "        'NumberOfOpenCreditLinesAndLoans',\n",
    "        'NumberOfTimes90DaysLate',\n",
    "        'NumberRealEstateLoansOrLines',\n",
    "        'NumberOfTime60-89DaysPastDueNotWorse',\n",
    "        'NumberOfDependents',\n",
    "        'TotalPastDue'\n",
    "    ]\n",
    "\n",
    "    input_df[numerical_features] = scaler.transform(input_df[numerical_features])\n",
    "\n",
    "    return input_df"
   ]
  },
  {
   "cell_type": "markdown",
   "metadata": {},
   "source": [
    "#### Probability to Credit Score Function"
   ]
  },
  {
   "cell_type": "code",
   "execution_count": 179,
   "metadata": {},
   "outputs": [],
   "source": [
    "def probability_to_score(probability, base_point=600, pdo=50, base_odds=50):\n",
    "    \"\"\"\n",
    "    Convert probability of default to a credit score using logistic scaling.\n",
    "    \n",
    "    Args:\n",
    "        probability (float): Predicted probability of default (between 0 and 1).\n",
    "        base_point (int): Base score corresponding to the base odds.\n",
    "        pdo (int): Points to Double the Odds.\n",
    "        base_odds (float): Base odds of non-default (odds at the base score).\n",
    "        \n",
    "    Returns:\n",
    "        int: Calculated credit score.\n",
    "    \"\"\"\n",
    "    import numpy as np\n",
    "    \n",
    "    # Ensure probability is within bounds\n",
    "    probability = np.clip(probability, 1e-6, 1 - 1e-6)\n",
    "    \n",
    "    # Calculate odds\n",
    "    odds = (1 - probability) / probability\n",
    "    \n",
    "    # Calculate Factor and Offset\n",
    "    factor = pdo / np.log(2)\n",
    "    offset = base_point - factor * np.log(base_odds)\n",
    "    \n",
    "    # Calculate score\n",
    "    score = offset + factor * np.log(odds)\n",
    "    \n",
    "    return int(round(score))"
   ]
  },
  {
   "cell_type": "markdown",
   "metadata": {},
   "source": [
    "#### Prediction Function"
   ]
  },
  {
   "cell_type": "code",
   "execution_count": 180,
   "metadata": {},
   "outputs": [],
   "source": [
    "def calculate_credit_score(input_data, base_point=600, pdo=50, base_odds=50):\n",
    "    \"\"\"\n",
    "    Process input data, predict probability of default, and calculate credit score.\n",
    "    \n",
    "    Args:\n",
    "        input_data (dict): User input data as a dictionary.\n",
    "        base_point (int): Base score corresponding to the base odds.\n",
    "        pdo (int): Points to Double the Odds.\n",
    "        base_odds (float): Base odds of non-default.\n",
    "    \n",
    "    Returns:\n",
    "        dict: Results containing probability of default and credit score.\n",
    "    \"\"\"\n",
    "    # Preprocess the input data\n",
    "    input_df = preprocess_input(input_data)\n",
    "    \n",
    "    # Make prediction\n",
    "    probability = model.predict_proba(input_df)[:, 1][0]  # Probability of default\n",
    "    \n",
    "    # Calculate credit score using logistic scaling\n",
    "    credit_score = probability_to_score(\n",
    "        probability, base_point=base_point, pdo=pdo, base_odds=base_odds\n",
    "    )\n",
    "    \n",
    "    # Prepare result\n",
    "    result = {\n",
    "        'Probability of Default': round(probability, 6),\n",
    "        'Credit Score': credit_score\n",
    "    }\n",
    "    \n",
    "    return result"
   ]
  },
  {
   "cell_type": "markdown",
   "metadata": {},
   "source": [
    "### Test the Prediction Function"
   ]
  },
  {
   "cell_type": "markdown",
   "metadata": {},
   "source": [
    "#### Sample Input Data"
   ]
  },
  {
   "cell_type": "code",
   "execution_count": 181,
   "metadata": {},
   "outputs": [],
   "source": [
    "sample_input = {\n",
    "    'RevolvingUtilizationOfUnsecuredLines': 0.5,\n",
    "    'age': 45,\n",
    "    'NumberOfTime30-59DaysPastDueNotWorse': 1,\n",
    "    'DebtRatio': 0.3,\n",
    "    'MonthlyIncome': 5000,\n",
    "    'NumberOfOpenCreditLinesAndLoans': 5,\n",
    "    'NumberOfTimes90DaysLate': 0,\n",
    "    'NumberRealEstateLoansOrLines': 1,\n",
    "    'NumberOfTime60-89DaysPastDueNotWorse': 0,\n",
    "    'NumberOfDependents': 2,\n",
    "}"
   ]
  },
  {
   "cell_type": "markdown",
   "metadata": {},
   "source": [
    "#### Calculate Credit Score"
   ]
  },
  {
   "cell_type": "code",
   "execution_count": 182,
   "metadata": {},
   "outputs": [
    {
     "name": "stdout",
     "output_type": "stream",
     "text": [
      "Probability of Default: 0.1331620067358017\n",
      "Calculated Credit Score: 453\n"
     ]
    },
    {
     "name": "stderr",
     "output_type": "stream",
     "text": [
      "/var/folders/ng/pdjvyqcx7tb3r64rhp7237vw0000gn/T/ipykernel_75344/409348309.py:26: FutureWarning: A value is trying to be set on a copy of a DataFrame or Series through chained assignment using an inplace method.\n",
      "The behavior will change in pandas 3.0. This inplace method will never work because the intermediate object on which we are setting values always behaves as a copy.\n",
      "\n",
      "For example, when doing 'df[col].method(value, inplace=True)', try using 'df.method({col: value}, inplace=True)' or df[col] = df[col].method(value) instead, to perform the operation inplace on the original object.\n",
      "\n",
      "\n",
      "  input_df['MonthlyIncome'].fillna(0, inplace=True)\n"
     ]
    }
   ],
   "source": [
    "result = calculate_credit_score(sample_input)\n",
    "\n",
    "print(f\"Probability of Default: {result['Probability of Default']}\")\n",
    "print(f\"Calculated Credit Score: {result['Credit Score']}\")"
   ]
  },
  {
   "cell_type": "markdown",
   "metadata": {},
   "source": []
  }
 ],
 "metadata": {
  "kernelspec": {
   "display_name": "venv",
   "language": "python",
   "name": "python3"
  },
  "language_info": {
   "codemirror_mode": {
    "name": "ipython",
    "version": 3
   },
   "file_extension": ".py",
   "mimetype": "text/x-python",
   "name": "python",
   "nbconvert_exporter": "python",
   "pygments_lexer": "ipython3",
   "version": "3.9.6"
  }
 },
 "nbformat": 4,
 "nbformat_minor": 2
}
